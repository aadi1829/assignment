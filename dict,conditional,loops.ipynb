{
 "cells": [
  {
   "cell_type": "code",
   "execution_count": 1,
   "id": "e812a08b-5e9f-4d4d-b5fc-c18be4e9adb6",
   "metadata": {},
   "outputs": [],
   "source": [
    "d={}"
   ]
  },
  {
   "cell_type": "code",
   "execution_count": 2,
   "id": "e8c14b1d-6992-4453-9d59-5d6fc074541a",
   "metadata": {},
   "outputs": [
    {
     "data": {
      "text/plain": [
       "dict"
      ]
     },
     "execution_count": 2,
     "metadata": {},
     "output_type": "execute_result"
    }
   ],
   "source": [
    "type(d)"
   ]
  },
  {
   "cell_type": "code",
   "execution_count": 3,
   "id": "e12210ca-c112-42af-9a16-5f535a90c5a2",
   "metadata": {},
   "outputs": [],
   "source": [
    "d1={'key': \"aadi\"}"
   ]
  },
  {
   "cell_type": "code",
   "execution_count": 4,
   "id": "ac990368-eb81-49b1-b26b-72144b136ea8",
   "metadata": {},
   "outputs": [
    {
     "data": {
      "text/plain": [
       "{'key': 'aadi'}"
      ]
     },
     "execution_count": 4,
     "metadata": {},
     "output_type": "execute_result"
    }
   ],
   "source": [
    "d1"
   ]
  },
  {
   "cell_type": "code",
   "execution_count": 5,
   "id": "2135fe2f-f928-4c80-9d0a-8a5627eefd64",
   "metadata": {},
   "outputs": [],
   "source": [
    "d2={'name':\"aadi\",'email':\"aadi029@gmail.com\",'number':47568}"
   ]
  },
  {
   "cell_type": "code",
   "execution_count": 6,
   "id": "0f59660d-0363-46f0-87e7-4c75f2ac1c22",
   "metadata": {},
   "outputs": [
    {
     "data": {
      "text/plain": [
       "{'name': 'aadi', 'email': 'aadi029@gmail.com', 'number': 47568}"
      ]
     },
     "execution_count": 6,
     "metadata": {},
     "output_type": "execute_result"
    }
   ],
   "source": [
    "d2"
   ]
  },
  {
   "cell_type": "code",
   "execution_count": 10,
   "id": "f3ac2e16-b6f1-43ed-b7a7-368fa653387b",
   "metadata": {},
   "outputs": [
    {
     "ename": "NameError",
     "evalue": "name '_ser' is not defined",
     "output_type": "error",
     "traceback": [
      "\u001b[0;31m---------------------------------------------------------------------------\u001b[0m",
      "\u001b[0;31mNameError\u001b[0m                                 Traceback (most recent call last)",
      "Cell \u001b[0;32mIn[10], line 1\u001b[0m\n\u001b[0;32m----> 1\u001b[0m d3\u001b[38;5;241m=\u001b[39m{\u001b[38;5;241m234\u001b[39m:\u001b[38;5;124m\"\u001b[39m\u001b[38;5;124maadi\u001b[39m\u001b[38;5;124m\"\u001b[39m, \u001b[43m_ser\u001b[49m:\u001b[38;5;124m\"\u001b[39m\u001b[38;5;124mkumar\u001b[39m\u001b[38;5;124m\"\u001b[39m}\n",
      "\u001b[0;31mNameError\u001b[0m: name '_ser' is not defined"
     ]
    }
   ],
   "source": [
    "d3={234:\"aadi\", _ser:\"kumar\"}"
   ]
  },
  {
   "cell_type": "code",
   "execution_count": 8,
   "id": "564b5bc2-1f87-4ab5-b993-9d867aa223cd",
   "metadata": {},
   "outputs": [
    {
     "data": {
      "text/plain": [
       "{234: 'aadi'}"
      ]
     },
     "execution_count": 8,
     "metadata": {},
     "output_type": "execute_result"
    }
   ],
   "source": [
    "d3"
   ]
  },
  {
   "cell_type": "code",
   "execution_count": 12,
   "id": "4d0ac977-4674-4925-b95d-c454a5b36c51",
   "metadata": {},
   "outputs": [],
   "source": [
    "d3={234:\"aadi\", \"ser\":\"kumar\",True:1234}"
   ]
  },
  {
   "cell_type": "code",
   "execution_count": 13,
   "id": "70a2dbbd-ffe4-4dcd-a434-a23ab7d998c9",
   "metadata": {},
   "outputs": [
    {
     "data": {
      "text/plain": [
       "{234: 'aadi', 'ser': 'kumar', True: 1234}"
      ]
     },
     "execution_count": 13,
     "metadata": {},
     "output_type": "execute_result"
    }
   ],
   "source": [
    "d3"
   ]
  },
  {
   "cell_type": "code",
   "execution_count": 15,
   "id": "857eaa97-2715-4ee4-8b55-0c122527dffc",
   "metadata": {},
   "outputs": [
    {
     "data": {
      "text/plain": [
       "'aadi'"
      ]
     },
     "execution_count": 15,
     "metadata": {},
     "output_type": "execute_result"
    }
   ],
   "source": [
    "d3[234]"
   ]
  },
  {
   "cell_type": "code",
   "execution_count": 16,
   "id": "a5b64c79-522e-4069-9790-01863077ab17",
   "metadata": {},
   "outputs": [
    {
     "data": {
      "text/plain": [
       "1234"
      ]
     },
     "execution_count": 16,
     "metadata": {},
     "output_type": "execute_result"
    }
   ],
   "source": [
    "d3[True]"
   ]
  },
  {
   "cell_type": "code",
   "execution_count": 17,
   "id": "cc0340f4-8b9a-4710-86aa-6e56bdaa0ca5",
   "metadata": {},
   "outputs": [
    {
     "data": {
      "text/plain": [
       "1234"
      ]
     },
     "execution_count": 17,
     "metadata": {},
     "output_type": "execute_result"
    }
   ],
   "source": [
    "d3[1]"
   ]
  },
  {
   "cell_type": "code",
   "execution_count": 18,
   "id": "b18067af-8430-40db-a8ec-4b4092c2adb1",
   "metadata": {},
   "outputs": [],
   "source": [
    "d4={'name':\"sudh\",\"mail\":\"ss@gmaiool.com\", \"name\":\"sudhanshu\"}"
   ]
  },
  {
   "cell_type": "code",
   "execution_count": 19,
   "id": "7d436089-f1a7-42c2-b2a1-569eee36077e",
   "metadata": {},
   "outputs": [
    {
     "data": {
      "text/plain": [
       "{'name': 'sudhanshu', 'mail': 'ss@gmaiool.com'}"
      ]
     },
     "execution_count": 19,
     "metadata": {},
     "output_type": "execute_result"
    }
   ],
   "source": [
    "d4"
   ]
  },
  {
   "cell_type": "code",
   "execution_count": 20,
   "id": "337caa5d-a20b-4361-98da-fbe56ecd489f",
   "metadata": {},
   "outputs": [
    {
     "data": {
      "text/plain": [
       "'sudhanshu'"
      ]
     },
     "execution_count": 20,
     "metadata": {},
     "output_type": "execute_result"
    }
   ],
   "source": [
    "d4[\"name\"]"
   ]
  },
  {
   "cell_type": "code",
   "execution_count": 21,
   "id": "a3ffcba8-4bf8-4d59-afb2-f88dd9770989",
   "metadata": {},
   "outputs": [],
   "source": [
    "d5={\"company\":\"pwskills\",\"courses\":[\"web dev\",\"data science\",\"java\"]}"
   ]
  },
  {
   "cell_type": "code",
   "execution_count": 22,
   "id": "9254f53e-45e0-40c7-a8f4-8b347032155f",
   "metadata": {},
   "outputs": [
    {
     "data": {
      "text/plain": [
       "{'company': 'pwskills', 'courses': ['web dev', 'data science', 'java']}"
      ]
     },
     "execution_count": 22,
     "metadata": {},
     "output_type": "execute_result"
    }
   ],
   "source": [
    "d5"
   ]
  },
  {
   "cell_type": "code",
   "execution_count": 23,
   "id": "4ea82aaf-c2db-4b6e-9ebe-127de09e5692",
   "metadata": {},
   "outputs": [
    {
     "data": {
      "text/plain": [
       "['web dev', 'data science', 'java']"
      ]
     },
     "execution_count": 23,
     "metadata": {},
     "output_type": "execute_result"
    }
   ],
   "source": [
    "d5[\"courses\"]"
   ]
  },
  {
   "cell_type": "code",
   "execution_count": 24,
   "id": "9a5d2194-8347-48da-9c05-de09eacb9eb9",
   "metadata": {},
   "outputs": [
    {
     "data": {
      "text/plain": [
       "'java'"
      ]
     },
     "execution_count": 24,
     "metadata": {},
     "output_type": "execute_result"
    }
   ],
   "source": [
    "d5[\"courses\"][2]"
   ]
  },
  {
   "cell_type": "code",
   "execution_count": 27,
   "id": "2b9b1f5e-eeba-4fab-8b24-8ea909f69359",
   "metadata": {},
   "outputs": [],
   "source": [
    "d6={\"number\":[2,34,55,67,34],\"assign\":(1,2,3,4,5),\"launch\":{28,2,45},\"class\":{\"web dev\":8,\"data science\":9,\"java\":7}}"
   ]
  },
  {
   "cell_type": "code",
   "execution_count": 28,
   "id": "36d104fb-4a3a-4a1d-86a9-ed1ffca008c8",
   "metadata": {},
   "outputs": [
    {
     "data": {
      "text/plain": [
       "{'number': [2, 34, 55, 67, 34],\n",
       " 'assign': (1, 2, 3, 4, 5),\n",
       " 'launch': {2, 28, 45},\n",
       " 'class': {'web dev': 8, 'data science': 9, 'java': 7}}"
      ]
     },
     "execution_count": 28,
     "metadata": {},
     "output_type": "execute_result"
    }
   ],
   "source": [
    "d6"
   ]
  },
  {
   "cell_type": "code",
   "execution_count": 29,
   "id": "41906bbe-5e3f-4183-9d8f-43eb98936fbc",
   "metadata": {},
   "outputs": [
    {
     "data": {
      "text/plain": [
       "{'web dev': 8, 'data science': 9, 'java': 7}"
      ]
     },
     "execution_count": 29,
     "metadata": {},
     "output_type": "execute_result"
    }
   ],
   "source": [
    "d6[\"class\"]"
   ]
  },
  {
   "cell_type": "code",
   "execution_count": 30,
   "id": "44d93c02-62bb-43fe-a2ca-bb71aaa0316d",
   "metadata": {},
   "outputs": [
    {
     "data": {
      "text/plain": [
       "7"
      ]
     },
     "execution_count": 30,
     "metadata": {},
     "output_type": "execute_result"
    }
   ],
   "source": [
    "d6[\"class\"][\"java\"]"
   ]
  },
  {
   "cell_type": "code",
   "execution_count": 31,
   "id": "d4b3a846-7556-4e63-8750-1816637fbdd1",
   "metadata": {},
   "outputs": [
    {
     "data": {
      "text/plain": [
       "{'number': [2, 34, 55, 67, 34],\n",
       " 'assign': (1, 2, 3, 4, 5),\n",
       " 'launch': {2, 28, 45},\n",
       " 'class': {'web dev': 8, 'data science': 9, 'java': 7}}"
      ]
     },
     "execution_count": 31,
     "metadata": {},
     "output_type": "execute_result"
    }
   ],
   "source": [
    "d6"
   ]
  },
  {
   "cell_type": "code",
   "execution_count": 32,
   "id": "f1fafca4-728e-4045-aa1c-418817736c80",
   "metadata": {},
   "outputs": [],
   "source": [
    "d6[\"mentor\"]=[\"sudh\",\"krish\",\"aadi\",\"rajat\"]"
   ]
  },
  {
   "cell_type": "code",
   "execution_count": 33,
   "id": "7f5a3559-d2ed-467d-b884-0fe5b804d3f4",
   "metadata": {},
   "outputs": [
    {
     "data": {
      "text/plain": [
       "{'number': [2, 34, 55, 67, 34],\n",
       " 'assign': (1, 2, 3, 4, 5),\n",
       " 'launch': {2, 28, 45},\n",
       " 'class': {'web dev': 8, 'data science': 9, 'java': 7},\n",
       " 'mentor': ['sudh', 'krish', 'aadi', 'rajat']}"
      ]
     },
     "execution_count": 33,
     "metadata": {},
     "output_type": "execute_result"
    }
   ],
   "source": [
    "d6"
   ]
  },
  {
   "cell_type": "code",
   "execution_count": 34,
   "id": "b4bb94ab-4ec5-4471-93aa-4a5efdf58dc7",
   "metadata": {},
   "outputs": [],
   "source": [
    "del d6[\"number\"]"
   ]
  },
  {
   "cell_type": "code",
   "execution_count": 35,
   "id": "3f31bd5b-dc56-4a89-913f-dc3a04413ce9",
   "metadata": {},
   "outputs": [
    {
     "data": {
      "text/plain": [
       "{'assign': (1, 2, 3, 4, 5),\n",
       " 'launch': {2, 28, 45},\n",
       " 'class': {'web dev': 8, 'data science': 9, 'java': 7},\n",
       " 'mentor': ['sudh', 'krish', 'aadi', 'rajat']}"
      ]
     },
     "execution_count": 35,
     "metadata": {},
     "output_type": "execute_result"
    }
   ],
   "source": [
    "d6"
   ]
  },
  {
   "cell_type": "code",
   "execution_count": 36,
   "id": "573c0a14-5fd6-40bf-b417-329202f60533",
   "metadata": {},
   "outputs": [
    {
     "data": {
      "text/plain": [
       "dict_keys(['assign', 'launch', 'class', 'mentor'])"
      ]
     },
     "execution_count": 36,
     "metadata": {},
     "output_type": "execute_result"
    }
   ],
   "source": [
    "d6.keys()"
   ]
  },
  {
   "cell_type": "code",
   "execution_count": 37,
   "id": "3e1bf915-0dc7-4fb7-9792-b2239a82173b",
   "metadata": {},
   "outputs": [
    {
     "data": {
      "text/plain": [
       "['assign', 'launch', 'class', 'mentor']"
      ]
     },
     "execution_count": 37,
     "metadata": {},
     "output_type": "execute_result"
    }
   ],
   "source": [
    "list(d6.keys())"
   ]
  },
  {
   "cell_type": "code",
   "execution_count": 38,
   "id": "4215737c-30cc-40d6-a92f-5acc26d982df",
   "metadata": {},
   "outputs": [
    {
     "data": {
      "text/plain": [
       "dict_values([(1, 2, 3, 4, 5), {2, 28, 45}, {'web dev': 8, 'data science': 9, 'java': 7}, ['sudh', 'krish', 'aadi', 'rajat']])"
      ]
     },
     "execution_count": 38,
     "metadata": {},
     "output_type": "execute_result"
    }
   ],
   "source": [
    "d6.values()"
   ]
  },
  {
   "cell_type": "code",
   "execution_count": 39,
   "id": "0e170e8c-19ac-4d10-8cd0-9b4178256e20",
   "metadata": {},
   "outputs": [
    {
     "data": {
      "text/plain": [
       "[(1, 2, 3, 4, 5),\n",
       " {2, 28, 45},\n",
       " {'web dev': 8, 'data science': 9, 'java': 7},\n",
       " ['sudh', 'krish', 'aadi', 'rajat']]"
      ]
     },
     "execution_count": 39,
     "metadata": {},
     "output_type": "execute_result"
    }
   ],
   "source": [
    "list(d6.values())"
   ]
  },
  {
   "cell_type": "code",
   "execution_count": 40,
   "id": "76e86da1-6388-46e3-a4f8-d11a6b62cbef",
   "metadata": {},
   "outputs": [
    {
     "data": {
      "text/plain": [
       "dict_items([('assign', (1, 2, 3, 4, 5)), ('launch', {2, 28, 45}), ('class', {'web dev': 8, 'data science': 9, 'java': 7}), ('mentor', ['sudh', 'krish', 'aadi', 'rajat'])])"
      ]
     },
     "execution_count": 40,
     "metadata": {},
     "output_type": "execute_result"
    }
   ],
   "source": [
    "d6.items()"
   ]
  },
  {
   "cell_type": "code",
   "execution_count": 41,
   "id": "0aefaca0-35ac-4af1-b256-fc4759e53629",
   "metadata": {},
   "outputs": [
    {
     "data": {
      "text/plain": [
       "[('assign', (1, 2, 3, 4, 5)),\n",
       " ('launch', {2, 28, 45}),\n",
       " ('class', {'web dev': 8, 'data science': 9, 'java': 7}),\n",
       " ('mentor', ['sudh', 'krish', 'aadi', 'rajat'])]"
      ]
     },
     "execution_count": 41,
     "metadata": {},
     "output_type": "execute_result"
    }
   ],
   "source": [
    "list(d6.items())"
   ]
  },
  {
   "cell_type": "code",
   "execution_count": 42,
   "id": "0dd01b30-3b45-42be-a3b8-b23299271539",
   "metadata": {},
   "outputs": [
    {
     "data": {
      "text/plain": [
       "(1, 2, 3, 4, 5)"
      ]
     },
     "execution_count": 42,
     "metadata": {},
     "output_type": "execute_result"
    }
   ],
   "source": [
    "d6.pop(\"assign\")"
   ]
  },
  {
   "cell_type": "code",
   "execution_count": 43,
   "id": "d3c6ec53-ca1e-4634-ad4e-6dfbe8d6ce12",
   "metadata": {},
   "outputs": [
    {
     "data": {
      "text/plain": [
       "{'launch': {2, 28, 45},\n",
       " 'class': {'web dev': 8, 'data science': 9, 'java': 7},\n",
       " 'mentor': ['sudh', 'krish', 'aadi', 'rajat']}"
      ]
     },
     "execution_count": 43,
     "metadata": {},
     "output_type": "execute_result"
    }
   ],
   "source": [
    "d6"
   ]
  },
  {
   "cell_type": "code",
   "execution_count": 44,
   "id": "7b31d6ff-d313-4703-a9dd-6b040a780fb6",
   "metadata": {},
   "outputs": [
    {
     "ename": "TypeError",
     "evalue": "pop expected at least 1 argument, got 0",
     "output_type": "error",
     "traceback": [
      "\u001b[0;31m---------------------------------------------------------------------------\u001b[0m",
      "\u001b[0;31mTypeError\u001b[0m                                 Traceback (most recent call last)",
      "Cell \u001b[0;32mIn[44], line 1\u001b[0m\n\u001b[0;32m----> 1\u001b[0m \u001b[43md6\u001b[49m\u001b[38;5;241;43m.\u001b[39;49m\u001b[43mpop\u001b[49m\u001b[43m(\u001b[49m\u001b[43m)\u001b[49m\n",
      "\u001b[0;31mTypeError\u001b[0m: pop expected at least 1 argument, got 0"
     ]
    }
   ],
   "source": [
    "d6.pop()"
   ]
  },
  {
   "cell_type": "code",
   "execution_count": 57,
   "id": "ff6ea6c1-a20d-4a56-8843-e9c949e7087b",
   "metadata": {},
   "outputs": [
    {
     "name": "stdin",
     "output_type": "stream",
     "text": [
      "enter your marks 90\n"
     ]
    },
    {
     "name": "stdout",
     "output_type": "stream",
     "text": [
      "you will be a part of A batch\n"
     ]
    }
   ],
   "source": [
    "marks = int(input(\"enter your marks\"))\n",
    "\n",
    "if marks >=80 :\n",
    "    print(\"you will be a part of A batch\")\n",
    "elif marks >=60 and  marks <80:\n",
    "    print(\"you will be part of b batch\")\n",
    "elif marks >=40 and marks < 60:\n",
    "    print(\"c batch\")\n",
    "else:\n",
    "    print(\"d batch\")\n",
    "     "
   ]
  },
  {
   "cell_type": "code",
   "execution_count": 51,
   "id": "8a41837b-2751-4c70-a4be-0f92561fcf94",
   "metadata": {},
   "outputs": [
    {
     "data": {
      "text/plain": [
       "False"
      ]
     },
     "execution_count": 51,
     "metadata": {},
     "output_type": "execute_result"
    }
   ],
   "source": [
    "10>=80"
   ]
  },
  {
   "cell_type": "code",
   "execution_count": 52,
   "id": "7e67cb27-b35d-4c97-ad38-3f2533b8757b",
   "metadata": {},
   "outputs": [
    {
     "name": "stdin",
     "output_type": "stream",
     "text": [
      "enter your marks 45\n"
     ]
    }
   ],
   "source": [
    "marks = input(\"enter your marks\")"
   ]
  },
  {
   "cell_type": "code",
   "execution_count": 53,
   "id": "73a63800-2572-4df6-beb4-0ddc84d73b1e",
   "metadata": {},
   "outputs": [
    {
     "data": {
      "text/plain": [
       "'45'"
      ]
     },
     "execution_count": 53,
     "metadata": {},
     "output_type": "execute_result"
    }
   ],
   "source": [
    "marks"
   ]
  },
  {
   "cell_type": "code",
   "execution_count": 55,
   "id": "fdfa7115-211c-405e-b846-2e4082cb426c",
   "metadata": {},
   "outputs": [
    {
     "data": {
      "text/plain": [
       "str"
      ]
     },
     "execution_count": 55,
     "metadata": {},
     "output_type": "execute_result"
    }
   ],
   "source": [
    "type(marks)"
   ]
  },
  {
   "cell_type": "code",
   "execution_count": 1,
   "id": "c08d361e-9a03-4ce6-87d7-cb0277f8770c",
   "metadata": {},
   "outputs": [
    {
     "data": {
      "text/plain": [
       "11"
      ]
     },
     "execution_count": 1,
     "metadata": {},
     "output_type": "execute_result"
    }
   ],
   "source": [
    "6+5"
   ]
  },
  {
   "cell_type": "code",
   "execution_count": 3,
   "id": "44979ee1-05b9-4be3-ba67-5ff4c696647e",
   "metadata": {},
   "outputs": [
    {
     "name": "stdin",
     "output_type": "stream",
     "text": [
      "enter price: 500\n"
     ]
    },
    {
     "name": "stdout",
     "output_type": "stream",
     "text": [
      "i will purchase\n"
     ]
    }
   ],
   "source": [
    "price=int(input(\"enter price:\"))\n",
    "if price > 1000:\n",
    "    print(\"i will not purchase\")\n",
    "else:\n",
    "        print(\"i will purchase\")"
   ]
  },
  {
   "cell_type": "code",
   "execution_count": 6,
   "id": "cd9a8333-cff4-4564-a8d5-67555d58f635",
   "metadata": {},
   "outputs": [
    {
     "name": "stdin",
     "output_type": "stream",
     "text": [
      "enter price: 56\n"
     ]
    },
    {
     "name": "stdout",
     "output_type": "stream",
     "text": [
      "i will purchase\n"
     ]
    }
   ],
   "source": [
    "price=int(input(\"enter price:\"))\n",
    "if price > 1000:\n",
    "    print(\"i will not purchase\")\n",
    "    if price >5000:\n",
    "        print(\"this is too much\")\n",
    "    elif price <2000:\n",
    "        print(\"its ok\")\n",
    "elif price <1000:\n",
    "    print(\"i will purchase\")\n",
    "else:\n",
    "    print(\"no matter\")"
   ]
  },
  {
   "cell_type": "code",
   "execution_count": 7,
   "id": "b563d647-45d6-4b3e-8e9a-c9551c6441f0",
   "metadata": {},
   "outputs": [],
   "source": [
    "l =[1,2,3,4,5,6,7,8]"
   ]
  },
  {
   "cell_type": "code",
   "execution_count": 8,
   "id": "f054ce51-7175-4fcb-a288-1843d14c5abd",
   "metadata": {},
   "outputs": [
    {
     "data": {
      "text/plain": [
       "1"
      ]
     },
     "execution_count": 8,
     "metadata": {},
     "output_type": "execute_result"
    }
   ],
   "source": [
    "l[0]"
   ]
  },
  {
   "cell_type": "code",
   "execution_count": 9,
   "id": "f18645fe-b4b1-4ac8-9091-b22717f131e1",
   "metadata": {},
   "outputs": [
    {
     "data": {
      "text/plain": [
       "2"
      ]
     },
     "execution_count": 9,
     "metadata": {},
     "output_type": "execute_result"
    }
   ],
   "source": [
    "l[0]+1"
   ]
  },
  {
   "cell_type": "code",
   "execution_count": 11,
   "id": "5dc78d48-df1c-4ff0-83e9-d7646cbbf494",
   "metadata": {},
   "outputs": [],
   "source": [
    "l.append(l[0]+1)"
   ]
  },
  {
   "cell_type": "code",
   "execution_count": 12,
   "id": "f3720939-2960-4e2d-8fd4-dce2b36277c9",
   "metadata": {},
   "outputs": [
    {
     "data": {
      "text/plain": [
       "[1, 2, 3, 4, 5, 6, 7, 8, 2]"
      ]
     },
     "execution_count": 12,
     "metadata": {},
     "output_type": "execute_result"
    }
   ],
   "source": [
    "l"
   ]
  },
  {
   "cell_type": "code",
   "execution_count": 13,
   "id": "8628b6de-303f-4487-a410-f18a51f1b69f",
   "metadata": {},
   "outputs": [],
   "source": [
    "l =[1,2,3,4,5,6,7,8]"
   ]
  },
  {
   "cell_type": "code",
   "execution_count": 14,
   "id": "a4579168-8cd2-4354-8f7a-2e2a216d3f70",
   "metadata": {},
   "outputs": [
    {
     "name": "stdout",
     "output_type": "stream",
     "text": [
      "1\n",
      "2\n",
      "3\n",
      "4\n",
      "5\n",
      "6\n",
      "7\n",
      "8\n"
     ]
    }
   ],
   "source": [
    "for i in l:\n",
    "    print(i)"
   ]
  },
  {
   "cell_type": "code",
   "execution_count": 16,
   "id": "19d8b077-3963-4895-8c7f-91fe46e89321",
   "metadata": {},
   "outputs": [
    {
     "name": "stdout",
     "output_type": "stream",
     "text": [
      "2\n",
      "3\n",
      "4\n",
      "5\n",
      "6\n",
      "7\n",
      "8\n",
      "9\n"
     ]
    },
    {
     "data": {
      "text/plain": [
       "[2, 3, 4, 5, 6, 7, 8, 9]"
      ]
     },
     "execution_count": 16,
     "metadata": {},
     "output_type": "execute_result"
    }
   ],
   "source": [
    "l1=[]\n",
    "for i in l:\n",
    "    print(i+1)\n",
    "    l1.append(i+1)\n",
    "l1  "
   ]
  },
  {
   "cell_type": "code",
   "execution_count": 17,
   "id": "811443d6-ddc9-4088-8e10-42fd4d68df4b",
   "metadata": {},
   "outputs": [],
   "source": [
    "l=[\"sudh\",\"kumar\",\"pwskills\",\"course\"]"
   ]
  },
  {
   "cell_type": "code",
   "execution_count": 19,
   "id": "4d33e74f-87d8-4c10-ae64-e2061b9904af",
   "metadata": {},
   "outputs": [
    {
     "name": "stdout",
     "output_type": "stream",
     "text": [
      "sudh\n",
      "kumar\n",
      "pwskills\n",
      "course\n"
     ]
    }
   ],
   "source": [
    "l1=[]\n",
    "for i in l:\n",
    "    print(i)\n",
    "    l1.append(i.upper())"
   ]
  },
  {
   "cell_type": "code",
   "execution_count": 20,
   "id": "df83971f-a16c-4d5c-8dd4-aa1e8d221237",
   "metadata": {},
   "outputs": [
    {
     "data": {
      "text/plain": [
       "['SUDH', 'KUMAR', 'PWSKILLS', 'COURSE']"
      ]
     },
     "execution_count": 20,
     "metadata": {},
     "output_type": "execute_result"
    }
   ],
   "source": [
    "l1"
   ]
  },
  {
   "cell_type": "code",
   "execution_count": 21,
   "id": "b446fa91-3013-46fe-9c7b-3d71b51591a1",
   "metadata": {},
   "outputs": [],
   "source": [
    "l=[1,2,3,4,5,\"sudh\",\"kumar\",234,34.56,\"abc\"]"
   ]
  },
  {
   "cell_type": "code",
   "execution_count": 22,
   "id": "0fce71f2-d351-4e8d-adeb-718fff8eab21",
   "metadata": {},
   "outputs": [],
   "source": [
    "l1_num=[]\n",
    "l2_str=[]\n",
    "for i in l:\n",
    "    if type(i) == int or type(i) == float:\n",
    "        l1_num.append(i)\n",
    "    else:\n",
    "        l2_str.append(i)"
   ]
  },
  {
   "cell_type": "code",
   "execution_count": 23,
   "id": "085718c1-8457-4083-a285-15649bca8038",
   "metadata": {},
   "outputs": [
    {
     "data": {
      "text/plain": [
       "[1, 2, 3, 4, 5, 234, 34.56]"
      ]
     },
     "execution_count": 23,
     "metadata": {},
     "output_type": "execute_result"
    }
   ],
   "source": [
    "l1_num"
   ]
  },
  {
   "cell_type": "code",
   "execution_count": 24,
   "id": "9a010f86-0927-43bd-8542-bfb71c523592",
   "metadata": {},
   "outputs": [
    {
     "data": {
      "text/plain": [
       "['sudh', 'kumar', 'abc']"
      ]
     },
     "execution_count": 24,
     "metadata": {},
     "output_type": "execute_result"
    }
   ],
   "source": [
    "l2_str"
   ]
  },
  {
   "cell_type": "code",
   "execution_count": null,
   "id": "e8af9428-7867-469c-80e0-784ab66d15a1",
   "metadata": {},
   "outputs": [],
   "source": []
  }
 ],
 "metadata": {
  "kernelspec": {
   "display_name": "Python 3 (ipykernel)",
   "language": "python",
   "name": "python3"
  },
  "language_info": {
   "codemirror_mode": {
    "name": "ipython",
    "version": 3
   },
   "file_extension": ".py",
   "mimetype": "text/x-python",
   "name": "python",
   "nbconvert_exporter": "python",
   "pygments_lexer": "ipython3",
   "version": "3.10.8"
  }
 },
 "nbformat": 4,
 "nbformat_minor": 5
}
